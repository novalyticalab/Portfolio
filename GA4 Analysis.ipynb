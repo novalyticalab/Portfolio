{
 "cells": [
  {
   "cell_type": "code",
   "execution_count": 15,
   "id": "d68db660-02c4-4765-9a64-ceedf0122fb3",
   "metadata": {},
   "outputs": [],
   "source": [
    "import matplotlib as mpl\n",
    "import matplotlib.pyplot as plt\n",
    "import numpy as np\n",
    "import pandas as pd\n",
    "import pyrsm as rsm\n",
    "import statsmodels.formula.api as smf\n",
    "import statsmodels.api as sm\n",
    "import seaborn as sns\n",
    "from statsmodels.genmod.families.links import logit\n",
    "from sklearn.inspection import permutation_importance\n",
    "from sklearn.metrics import auc, roc_curve\n",
    "from math import sqrt\n",
    "import xgboost as xgb\n",
    "from sklearn import metrics, tree\n",
    "from sklearn.linear_model import LogisticRegression\n",
    "from scipy.stats import ttest_ind"
   ]
  },
  {
   "cell_type": "code",
   "execution_count": 16,
   "id": "18dc37af-5c85-49d0-8f0f-58ca67cead2e",
   "metadata": {},
   "outputs": [
    {
     "name": "stdout",
     "output_type": "stream",
     "text": [
      "                            OLS Regression Results                            \n",
      "==============================================================================\n",
      "Dep. Variable:            Conversions   R-squared:                       0.023\n",
      "Model:                            OLS   Adj. R-squared:                 -0.026\n",
      "Method:                 Least Squares   F-statistic:                    0.4700\n",
      "Date:                Mon, 18 Sep 2023   Prob (F-statistic):              0.501\n",
      "Time:                        09:03:50   Log-Likelihood:                -136.42\n",
      "No. Observations:                  22   AIC:                             276.8\n",
      "Df Residuals:                      20   BIC:                             279.0\n",
      "Df Model:                           1                                         \n",
      "Covariance Type:            nonrobust                                         \n",
      "===================================================================================\n",
      "                      coef    std err          t      P>|t|      [0.025      0.975]\n",
      "-----------------------------------------------------------------------------------\n",
      "Intercept           7.0178     80.948      0.087      0.932    -161.838     175.873\n",
      "Engagement_Rate   101.0943    147.466      0.686      0.501    -206.514     408.703\n",
      "==============================================================================\n",
      "Omnibus:                       37.760   Durbin-Watson:                   1.014\n",
      "Prob(Omnibus):                  0.000   Jarque-Bera (JB):              104.014\n",
      "Skew:                           2.979   Prob(JB):                     2.59e-23\n",
      "Kurtosis:                      11.831   Cond. No.                         7.05\n",
      "==============================================================================\n",
      "\n",
      "Notes:\n",
      "[1] Standard Errors assume that the covariance matrix of the errors is correctly specified.\n"
     ]
    }
   ],
   "source": [
    "#(from data-export file)\n",
    "import statsmodels.api as sm\n",
    "import statsmodels.formula.api as smf\n",
    "import pandas as pd\n",
    "\n",
    "# Create your DataFrame\n",
    "data = {\n",
    "    'Engagement_Rate': [0.6531361711, 0.5890570157, 0.3980717924, 0.5602996735, 0.6939932526,\n",
    "                        0.4832841691, 0.6116444446, 0.7073717178, 0.5346045198, 0.6469668543,\n",
    "                        0.07404393816, 0.6328173453, 0.2944369064, 0.621669627, 0.02142857143,\n",
    "                        0.6005291005, 0.5805555556, 0.6227106227, 0.6439393939, 0.5614973262,\n",
    "                        0.3442622951, 0.525],\n",
    "    'Conversions': [550, 65, 216, 142, 31, 129, 68, 42, 13, 15, 11, 0, 1, 17, 1, 4, 1, 1, 0, 0, 0, 0]\n",
    "}\n",
    "\n",
    "df = pd.DataFrame(data)\n",
    "\n",
    "# Perform linear regression using formula-style approach\n",
    "reg = smf.ols(formula=\"Conversions ~ Engagement_Rate\", data=df).fit()\n",
    "\n",
    "# View regression summary\n",
    "print(reg.summary())"
   ]
  },
  {
   "cell_type": "code",
   "execution_count": 30,
   "id": "c643b8a8-d8d6-4b6c-ad32-543c3b92a886",
   "metadata": {},
   "outputs": [],
   "source": [
    "#Analysis of the findings above: R-squared is 0.023, which indicates that only 2.3% of the variance in Conversions is explained by Engagement_Rate. This suggests that the independent variable(s) may not be a strong predictor of Conversions.\n",
    "#The F-statistic tests whether there is a significant relationship between the independent variable(s) and the dependent variable.\n",
    "#The F-statistic is 0.4700, and its associated p-value (Prob F-statistic) is 0.501. A high p-value suggests that there is insufficient evidence to conclude that the independent variable(s) have a significant overall effect on the dependent variable.\n",
    "#Coefficients:\n",
    "\n",
    "#Intercept: The intercept represents the estimated value of Conversions when Engagement_Rate is zero. In this case, it is 7.0178, but it's not statistically significant (p = 0.932).\n",
    "#Engagement_Rate: The coefficient for Engagement_Rate is 101.0943, suggesting that, for a one-unit increase in Engagement_Rate, Conversions is estimated to increase by 101.0943. However, it's not statistically significant (p = 0.501), indicating that the relationship between Engagement_Rate and Conversions is not strong."
   ]
  },
  {
   "cell_type": "code",
   "execution_count": 24,
   "id": "a0e402a9-4904-4dda-9a73-85ab4a599ffb",
   "metadata": {},
   "outputs": [],
   "source": [
    "#The regression results provide information about the relationship between \"Engagement_Rate\" and \"Conversions.\"\n",
    "\n",
    "#R-squared: The R-squared value is 0.023, which indicates that only a small proportion (2.3%) of the variance in \"Conversions\" can be explained by \"Engagement_Rate.\" This suggests that \"Engagement_Rate\" is not a strong predictor of \"Conversions.\"\n",
    "\n",
    "#Coefficients:\n",
    "\n",
    "#Intercept: The intercept is 7.0178. In this context, it represents the estimated value of \"Conversions\" when \"Engagement_Rate\" is zero. However, this interpretation may not be meaningful, as \"Engagement_Rate\" is not likely to be zero in your data.\n",
    "#Engagement_Rate: The coefficient for \"Engagement_Rate\" is 101.0943. It indicates the change in the estimated \"Conversions\" for a one-unit change in \"Engagement_Rate.\" However, the p-value for this coefficient is 0.501, which is greater than the typical significance level of 0.05. This suggests that \"Engagement_Rate\" is not statistically significant in predicting \"Conversions.\"\n",
    "#F-statistic: The F-statistic tests whether the overall model (including all predictors) is statistically significant. In this case, the F-statistic is 0.4700, and the associated p-value is 0.501. Since the p-value is greater than 0.05, it implies that the model as a whole is not statistically significant in predicting \"Conversions.\"\n",
    "\n",
    "#Adjusted R-squared: The adjusted R-squared adjusts the R-squared value for the number of predictors in the model. It's -0.026 in this case, indicating that adding \"Engagement_Rate\" to the model doesn't improve its explanatory power.\n",
    "\n",
    "#Prob (F-statistic): This is the probability associated with the F-statistic. A high p-value (0.501) suggests that the model doesn't explain much of the variation in \"Conversions.\"\n",
    "\n",
    "#Residuals: Other statistics like the Omnibus, Durbin-Watson, Jarque-Bera, skewness, kurtosis, and conditional number are related to the goodness-of-fit and assumptions of the regression model. The high Omnibus and Jarque-Bera p-values indicate that the residuals may not be normally distributed, and the model may not meet certain assumptions.\n",
    "\n",
    "#In summary, the regression results suggest that \"Engagement_Rate\" does not appear to be a significant predictor of \"Conversions\" in your dataset. The model does not explain much of the variation in \"Conversions,\" as indicated by the low R-squared and the non-significant coefficients and F-statistic. Additional factors or variables may be needed to better predict \"Conversions.\""
   ]
  },
  {
   "cell_type": "code",
   "execution_count": 18,
   "id": "4934077c-2b62-49ad-936c-8d060a283f96",
   "metadata": {},
   "outputs": [
    {
     "data": {
      "text/html": [
       "<div>\n",
       "<style scoped>\n",
       "    .dataframe tbody tr th:only-of-type {\n",
       "        vertical-align: middle;\n",
       "    }\n",
       "\n",
       "    .dataframe tbody tr th {\n",
       "        vertical-align: top;\n",
       "    }\n",
       "\n",
       "    .dataframe thead th {\n",
       "        text-align: right;\n",
       "    }\n",
       "</style>\n",
       "<table border=\"1\" class=\"dataframe\">\n",
       "  <thead>\n",
       "    <tr style=\"text-align: right;\">\n",
       "      <th></th>\n",
       "      <th>Engaged sessions per user</th>\n",
       "      <th>Engagement rate</th>\n",
       "    </tr>\n",
       "  </thead>\n",
       "  <tbody>\n",
       "    <tr>\n",
       "      <th>count</th>\n",
       "      <td>34.000000</td>\n",
       "      <td>34.000000</td>\n",
       "    </tr>\n",
       "    <tr>\n",
       "      <th>mean</th>\n",
       "      <td>0.693946</td>\n",
       "      <td>0.495667</td>\n",
       "    </tr>\n",
       "    <tr>\n",
       "      <th>std</th>\n",
       "      <td>0.389931</td>\n",
       "      <td>0.241033</td>\n",
       "    </tr>\n",
       "    <tr>\n",
       "      <th>min</th>\n",
       "      <td>0.000000</td>\n",
       "      <td>0.000000</td>\n",
       "    </tr>\n",
       "    <tr>\n",
       "      <th>25%</th>\n",
       "      <td>0.454977</td>\n",
       "      <td>0.394250</td>\n",
       "    </tr>\n",
       "    <tr>\n",
       "      <th>50%</th>\n",
       "      <td>0.831156</td>\n",
       "      <td>0.572444</td>\n",
       "    </tr>\n",
       "    <tr>\n",
       "      <th>75%</th>\n",
       "      <td>1.020992</td>\n",
       "      <td>0.672530</td>\n",
       "    </tr>\n",
       "    <tr>\n",
       "      <th>max</th>\n",
       "      <td>1.132784</td>\n",
       "      <td>0.776271</td>\n",
       "    </tr>\n",
       "  </tbody>\n",
       "</table>\n",
       "</div>"
      ],
      "text/plain": [
       "       Engaged sessions per user  Engagement rate\n",
       "count                  34.000000        34.000000\n",
       "mean                    0.693946         0.495667\n",
       "std                     0.389931         0.241033\n",
       "min                     0.000000         0.000000\n",
       "25%                     0.454977         0.394250\n",
       "50%                     0.831156         0.572444\n",
       "75%                     1.020992         0.672530\n",
       "max                     1.132784         0.776271"
      ]
     },
     "execution_count": 18,
     "metadata": {},
     "output_type": "execute_result"
    }
   ],
   "source": [
    "#from Session default channel group and Operating System data\n",
    "# Create a DataFrame from your data (\n",
    "data = {\n",
    "    'Engaged sessions per user': [0.7077537806, 0.8723220842, 0.4421541846, 0.8318037337, 0.5196905276, 1.132783883, 1.082942239, 1.008205605, 0.4934439834, 1.091603919, 1.088959565, 1.037405334, 0.9341698004, 0.5850202429, 1.043448512, 0.7645965043, 0.8305084746, 0.8179669031, 0.1040462428, 0.963099631, 1.102912621, 1.025052192, 1.059016393, 0.007117437722, 0.003623188406, 0.0153256705, 1.008810573, 0.9301075269, 0.9393939394, 0.006493506494, 0, 0.5111111111, 0.3255813953, 0.3076923077],\n",
    "    'Engagement rate': [0.5647662084, 0.6323466906, 0.3792641733, 0.531221409, 0.4392082941, 0.7321193033, 0.729424997, 0.7061374973, 0.4576662562, 0.6527187721, 0.6629217894, 0.6904824236, 0.5726270238, 0.5208547889, 0.7121176745, 0.644716212, 0.6492113565, 0.4937214612, 0.09708737864, 0.6549560853, 0.7108886108, 0.5722610723, 0.6757322176, 0.006349206349, 0.006578947368, 0.03389830508, 0.7762711864, 0.6865079365, 0.6224899598, 0.1428571429, 0, 0.4693877551, 0.3181818182, 0.3076923077],\n",
    "}\n",
    "\n",
    "df = pd.DataFrame(data)\n",
    "\n",
    "# Basic statistics\n",
    "basic_stats = df.describe()\n",
    "basic_stats"
   ]
  },
  {
   "cell_type": "code",
   "execution_count": 19,
   "id": "2cfbb166-47ef-4e49-9018-118c26b3be5c",
   "metadata": {},
   "outputs": [
    {
     "data": {
      "text/plain": [
       "array([[<AxesSubplot: title={'center': 'Engaged sessions per user'}>,\n",
       "        <AxesSubplot: title={'center': 'Engagement rate'}>]], dtype=object)"
      ]
     },
     "execution_count": 19,
     "metadata": {},
     "output_type": "execute_result"
    },
    {
     "data": {
      "image/png": "[encoded data removed]",
      "text/plain": [
       "<Figure size 640x480 with 2 Axes>"
      ]
     },
     "metadata": {},
     "output_type": "display_data"
    }
   ],
   "source": [
    "df.hist()"
   ]
  },
  {
   "cell_type": "code",
   "execution_count": 20,
   "id": "3c77c9f9-e9d4-4de9-9705-70ca38afc205",
   "metadata": {},
   "outputs": [
    {
     "data": {
      "text/html": [
       "<div>\n",
       "<style scoped>\n",
       "    .dataframe tbody tr th:only-of-type {\n",
       "        vertical-align: middle;\n",
       "    }\n",
       "\n",
       "    .dataframe tbody tr th {\n",
       "        vertical-align: top;\n",
       "    }\n",
       "\n",
       "    .dataframe thead th {\n",
       "        text-align: right;\n",
       "    }\n",
       "</style>\n",
       "<table border=\"1\" class=\"dataframe\">\n",
       "  <thead>\n",
       "    <tr style=\"text-align: right;\">\n",
       "      <th></th>\n",
       "      <th>Engaged sessions per user</th>\n",
       "      <th>Engagement rate</th>\n",
       "    </tr>\n",
       "  </thead>\n",
       "  <tbody>\n",
       "    <tr>\n",
       "      <th>Engaged sessions per user</th>\n",
       "      <td>1.00000</td>\n",
       "      <td>0.96531</td>\n",
       "    </tr>\n",
       "    <tr>\n",
       "      <th>Engagement rate</th>\n",
       "      <td>0.96531</td>\n",
       "      <td>1.00000</td>\n",
       "    </tr>\n",
       "  </tbody>\n",
       "</table>\n",
       "</div>"
      ],
      "text/plain": [
       "                           Engaged sessions per user  Engagement rate\n",
       "Engaged sessions per user                    1.00000          0.96531\n",
       "Engagement rate                              0.96531          1.00000"
      ]
     },
     "execution_count": 20,
     "metadata": {},
     "output_type": "execute_result"
    }
   ],
   "source": [
    "# Correlation matrix\n",
    "correlation_matrix = df.corr()\n",
    "correlation_matrix"
   ]
  },
  {
   "cell_type": "code",
   "execution_count": 21,
   "id": "3bc603ed-1a9d-4e58-b06c-1b4088365142",
   "metadata": {},
   "outputs": [
    {
     "data": {
      "image/png": "[encoded data removed]",
      "text/plain": [
       "<Figure size 640x480 with 2 Axes>"
      ]
     },
     "metadata": {},
     "output_type": "display_data"
    }
   ],
   "source": [
    "# Plotting\n",
    "sns.heatmap(correlation_matrix, annot=True, cmap='coolwarm', linewidths=0.5)\n",
    "plt.show()"
   ]
  },
  {
   "cell_type": "code",
   "execution_count": 22,
   "id": "5fe3b241-6876-4cf7-b33c-072f60bdf8f7",
   "metadata": {},
   "outputs": [
    {
     "name": "stdout",
     "output_type": "stream",
     "text": [
      "T-Statistic: -0.4118859992993967\n",
      "P-Value: 0.688048700938926\n",
      "Null hypothesis not rejected: There is no significant difference in mean 'Engagement_Rate' between the two groups.\n"
     ]
    }
   ],
   "source": [
    "# Create your DataFrame\n",
    "data = {\n",
    "    'Engagement_Rate': [0.6531361711, 0.5890570157, 0.3980717924, 0.5602996735, 0.6939932526,\n",
    "                        0.4832841691, 0.6116444446, 0.7073717178, 0.5346045198, 0.6469668543,\n",
    "                        0.07404393816, 0.6328173453, 0.2944369064, 0.621669627, 0.02142857143,\n",
    "                        0.6005291005, 0.5805555556, 0.6227106227, 0.6439393939, 0.5614973262,\n",
    "                        0.3442622951, 0.525],\n",
    "    'Conversions': [550, 65, 216, 142, 31, 129, 68, 42, 13, 15, 11, 0, 1, 17, 1, 4, 1, 1, 0, 0, 0, 0]\n",
    "}\n",
    "\n",
    "df = pd.DataFrame(data)\n",
    "\n",
    "# Separate data into two groups\n",
    "group1 = df[df['Conversions'] > 0]['Engagement_Rate']  # Group with Conversions > 0\n",
    "group2 = df[df['Conversions'] == 0]['Engagement_Rate']  # Group with Conversions = 0\n",
    "\n",
    "# Perform a t-test to compare the mean 'Engagement_Rate' between the two groups\n",
    "t_statistic, p_value = ttest_ind(group1, group2, equal_var=False)\n",
    "\n",
    "# Define the significance level (alpha)\n",
    "alpha = 0.05\n",
    "\n",
    "# Print the results\n",
    "print(\"T-Statistic:\", t_statistic)\n",
    "print(\"P-Value:\", p_value)\n",
    "\n",
    "# Check if the p-value is less than alpha to determine statistical significance\n",
    "if p_value < alpha:\n",
    "    print(\"Null hypothesis rejected: There is a significant difference in mean 'Engagement_Rate' between the two groups.\")\n",
    "else:\n",
    "    print(\"Null hypothesis not rejected: There is no significant difference in mean 'Engagement_Rate' between the two groups.\")"
   ]
  },
  {
   "cell_type": "code",
   "execution_count": 26,
   "id": "cc206ed5-dc58-4298-8e1f-484c172ded33",
   "metadata": {},
   "outputs": [],
   "source": [
    "#Based on the results of the t-test and the statement \"Null hypothesis not rejected,\" it suggests that, in the context of the data and analysis performed, there is not enough evidence to conclude that engagement rate has a statistically significant impact on conversions.\n",
    "#In other words, the t-test did not find a significant difference in mean 'Engagement_Rate' between the group with Conversions > 0 and the group with Conversions = 0. This means that, a high engagement rate does not necessarily correspond to high conversions.\n",
    "#But statistical significance doesn't definitely imply practical or real-world significance. It's possible that other factors not included in this analysis could influence conversions."
   ]
  },
  {
   "cell_type": "code",
   "execution_count": null,
   "id": "a5448d74-61b0-40d1-a2e3-7a51a2f283fb",
   "metadata": {},
   "outputs": [],
   "source": []
  }
 ],
 "metadata": {
  "kernelspec": {
   "display_name": "Python 3 (ipykernel)",
   "language": "python",
   "name": "python3"
  },
  "language_info": {
   "codemirror_mode": {
    "name": "ipython",
    "version": 3
   },
   "file_extension": ".py",
   "mimetype": "text/x-python",
   "name": "python",
   "nbconvert_exporter": "python",
   "pygments_lexer": "ipython3",
   "version": "3.10.8"
  }
 },
 "nbformat": 4,
 "nbformat_minor": 5
}
